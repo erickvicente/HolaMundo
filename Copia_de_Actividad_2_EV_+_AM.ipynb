{
  "nbformat": 4,
  "nbformat_minor": 0,
  "metadata": {
    "colab": {
      "provenance": [],
      "collapsed_sections": [],
      "include_colab_link": true
    },
    "kernelspec": {
      "name": "python3",
      "display_name": "Python 3"
    },
    "language_info": {
      "name": "python"
    }
  },
  "cells": [
    {
      "cell_type": "markdown",
      "metadata": {
        "id": "view-in-github",
        "colab_type": "text"
      },
      "source": [
        "<a href=\"https://colab.research.google.com/github/erickvicente/HolaMundo/blob/master/Copia_de_Actividad_2_EV_%2B_AM.ipynb\" target=\"_parent\"><img src=\"https://colab.research.google.com/assets/colab-badge.svg\" alt=\"Open In Colab\"/></a>"
      ]
    },
    {
      "cell_type": "markdown",
      "source": [
        "## **MODELO DE PREDICCIÓN DE LA RENTABILIDAD DE UN ATM**\n",
        "*By: Erick Vicente y Angie Maio*\n",
        "\n",
        "DICCIONARIO DE DATOS: \n",
        "1. **'ubicacion_2':** Si el ATM se encuentra instalado en Oficina o no.\n",
        "2. **'antiguedad':** Años de antiguedad del ATM.\n",
        "3. **'tipo_instalacion':** Si el abastecimiento del ATM se realiza en zona con acceso al público o por dentro de la oficina.\n",
        "4. **'ut':** Nivel de disponibilidad del ATM (% de tiempo que el cajero ha estado atendiendo a clientes, promedio de enero a agosto 2022).\n",
        "5. **'rentable':** Indicador generado en base al promedio de transacciones realizadas en el ATM de enero a agosto 2022. Es 1 cuando está por encima de la mediana. \n",
        "\n",
        "\n",
        "---\n",
        "\n"
      ],
      "metadata": {
        "id": "EkI2ViQMlb7F"
      }
    },
    {
      "cell_type": "code",
      "execution_count": 48,
      "metadata": {
        "id": "SNhQ4uCoAFps"
      },
      "outputs": [],
      "source": [
        "import numpy as np\n",
        "import pandas as pd \n",
        "import matplotlib.pyplot as plt\n",
        "from matplotlib import style\n",
        "import seaborn as sns\n",
        "import statsmodels.api as sm\n",
        "import statsmodels.formula.api as smf\n",
        "import pylab as pl\n",
        "from scipy import stats\n",
        "from scipy.stats import pearsonr\n",
        "from scipy.stats import trim_mean\n",
        "from scipy.stats import chi2_contingency\n",
        "\n",
        "import warnings\n",
        "warnings.filterwarnings('ignore')\n",
        "\n",
        "style.use('ggplot') or plt.style.use('ggplot')\n",
        "%config InlineBackend.figure_format = 'retina'\n",
        "\n",
        "from tqdm import tqdm\n",
        "\n",
        "from sklearn.model_selection import train_test_split\n",
        "from sklearn.preprocessing import StandardScaler\n",
        "from sklearn.utils import shuffle\n",
        "\n",
        "# Regresión Logística\n",
        "from sklearn.linear_model import LogisticRegression\n",
        "# Metricas\n",
        "from sklearn import metrics\n",
        "from sklearn.metrics import accuracy_score\n",
        "from sklearn.metrics import precision_score\n",
        "from sklearn.metrics import mean_absolute_error\n",
        "from sklearn.metrics import recall_score\n",
        "from sklearn.metrics import mean_squared_error\n",
        "from sklearn.metrics import roc_curve\n",
        "from sklearn.metrics import RocCurveDisplay\n",
        "from sklearn.model_selection import train_test_split"
      ]
    },
    {
      "cell_type": "code",
      "source": [
        "#Carga del archivo ATM\n",
        "from google.colab import files\n",
        "data_to_load = files.upload()\n",
        "import io \n",
        "atm = pd.read_csv(io.BytesIO(data_to_load['ATM - Consolidado.csv']), header=0, sep=',')\n",
        "atm.shape"
      ],
      "metadata": {
        "colab": {
          "base_uri": "https://localhost:8080/",
          "height": 90,
          "resources": {
            "http://localhost:8080/nbextensions/google.colab/files.js": {
              "data": "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",
              "ok": true,
              "headers": [
                [
                  "content-type",
                  "application/javascript"
                ]
              ],
              "status": 200,
              "status_text": ""
            }
          }
        },
        "id": "DIqZJh8pA7DU",
        "outputId": "faf35ba7-3fe1-467e-a74a-171817f1a5b3"
      },
      "execution_count": 50,
      "outputs": [
        {
          "output_type": "display_data",
          "data": {
            "text/plain": [
              "<IPython.core.display.HTML object>"
            ],
            "text/html": [
              "\n",
              "     <input type=\"file\" id=\"files-f131655b-4666-4c6b-845c-e74e551dc62f\" name=\"files[]\" multiple disabled\n",
              "        style=\"border:none\" />\n",
              "     <output id=\"result-f131655b-4666-4c6b-845c-e74e551dc62f\">\n",
              "      Upload widget is only available when the cell has been executed in the\n",
              "      current browser session. Please rerun this cell to enable.\n",
              "      </output>\n",
              "      <script src=\"/nbextensions/google.colab/files.js\"></script> "
            ]
          },
          "metadata": {}
        },
        {
          "output_type": "stream",
          "name": "stdout",
          "text": [
            "Saving ATM - Consolidado.csv to ATM - Consolidado (2).csv\n"
          ]
        },
        {
          "output_type": "execute_result",
          "data": {
            "text/plain": [
              "(1868, 49)"
            ]
          },
          "metadata": {},
          "execution_count": 50
        }
      ]
    },
    {
      "cell_type": "code",
      "source": [
        "atm2 = atm.copy()\n",
        "#Se considera 1-OFICINA porque se cuenta con mayor cantidad de ATM instalados en oficina\n",
        "atm2['ubicacion_2'] = [1 if s =='OFICINA' else 0 for s in atm2['ubicacion']]\n",
        "#Se considera 1-LOBBY porque se cuenta con mayor cantidad de tipo de instalación Lobby\n",
        "atm2['tipo_instalacion'] = [1 if s =='LOBBY' else 0 for s in atm2['tipo_instalacion']]\n",
        "#Se considera solo el ATM tipo \"DISPENSADOR\"\n",
        "atm2.drop(atm2.loc[atm2['tipo']=='MONEDERO'].index, inplace=True)\n",
        "atm2.drop(atm2.loc[atm2['tipo']=='DEPOSITO'].index, inplace=True)\n",
        "#Se categoriza la distribución física en base a la cantidad de ATM por tipo de distribución física\n",
        "conditionlist = [\n",
        "    (atm2['distribucion_fisica'] == 'ZONA SERVICING'),\n",
        "    (atm2['distribucion_fisica'] == 'INTERIOR DE OFICINA'),\n",
        "    (atm2['distribucion_fisica'] == 'ISLA')]\n",
        "choicelist = [0,2,1]\n",
        "atm2['distribucion_fisica_2'] = np.select(conditionlist, choicelist, default='Not Specified')\n",
        "atm2['distribucion_fisica_2'] = atm2['distribucion_fisica_2'].astype(int, errors = 'raise')\n",
        "#Se categoriza los encargados en base de abastecimiento en base a la cantidad de ATMs asignados\n",
        "conditionlist = [\n",
        "    (atm2['encargado'] == 'OFICINA'),\n",
        "    (atm2['encargado'] == 'PROSEGUR'),\n",
        "    (atm2['encargado'] == 'HERMES')]\n",
        "choicelist = [0,1,2]\n",
        "atm2['encargado_2'] = np.select(conditionlist, choicelist, default='Not Specified')\n",
        "atm2['encargado_2'] = atm2['encargado_2'].astype(int, errors = 'raise')\n",
        "#Se considera 1-URBANO porque contamos con más ATMs en zona urbana\n",
        "atm2['zonificacion'] = [0 if s =='URBANO' else 1 for s in atm2['zonificacion']]\n",
        "atm3 = atm2.copy()"
      ],
      "metadata": {
        "id": "DEtalnflnmOc"
      },
      "execution_count": 55,
      "outputs": []
    },
    {
      "cell_type": "markdown",
      "source": [
        "### **ANALISIS DEL MODELO 1** \n",
        "\n",
        "---\n",
        "\n"
      ],
      "metadata": {
        "id": "Q2dGZ9dfq4Pm"
      }
    },
    {
      "cell_type": "markdown",
      "source": [
        "**BALANCEANDO DATOS**"
      ],
      "metadata": {
        "id": "25gZtUrpw8z-"
      }
    },
    {
      "cell_type": "code",
      "source": [
        "#Calculamos la media de las transacciones\n",
        "mediatx = atm2['prom_tx'].mean()\n",
        "atmgood2 = atm2.query('prom_tx >= @mediatx')\n",
        "print(mediatx)"
      ],
      "metadata": {
        "colab": {
          "base_uri": "https://localhost:8080/"
        },
        "id": "QP5ed3v9rUP2",
        "outputId": "a5650bd6-3adb-41ab-97d1-35cdf38f1a01"
      },
      "execution_count": 56,
      "outputs": [
        {
          "output_type": "stream",
          "name": "stdout",
          "text": [
            "5519.23125\n"
          ]
        }
      ]
    },
    {
      "cell_type": "code",
      "source": [
        "#Filtramos la tabla en base al promedio de las tx\n",
        "#1 es rentable, 0 no es rentable.\n",
        "atm2['rentable']=1*((atm2.prom_tx>=mediatx))\n",
        "atm2.rentable.value_counts()"
      ],
      "metadata": {
        "colab": {
          "base_uri": "https://localhost:8080/"
        },
        "id": "6EP2VQ9UuFUd",
        "outputId": "1636f8ad-c51c-4069-b8cd-e3277a8f55f4"
      },
      "execution_count": 57,
      "outputs": [
        {
          "output_type": "execute_result",
          "data": {
            "text/plain": [
              "0    751\n",
              "1    749\n",
              "Name: rentable, dtype: int64"
            ]
          },
          "metadata": {},
          "execution_count": 57
        }
      ]
    },
    {
      "cell_type": "code",
      "source": [
        "#Seleccionamos las variables dependientes e independientes\n",
        "col_select = ['ubicacion_2','antiguedad','tipo_instalacion','encargado_2','distribucion_fisica_2','zonificacion','ut','rentable'] \n",
        "atm_filtro = atm2.filter(col_select)\n",
        "atm_filtro"
      ],
      "metadata": {
        "colab": {
          "base_uri": "https://localhost:8080/",
          "height": 424
        },
        "id": "eS-61ij3uIFe",
        "outputId": "90f3387a-0606-48dc-b3f0-67ea11a48e79"
      },
      "execution_count": 58,
      "outputs": [
        {
          "output_type": "execute_result",
          "data": {
            "text/plain": [
              "      ubicacion_2  antiguedad  tipo_instalacion  encargado_2  \\\n",
              "0               1           1                 0            0   \n",
              "1               1           1                 0            0   \n",
              "2               1           4                 1            0   \n",
              "3               1           8                 0            0   \n",
              "4               1           4                 1            1   \n",
              "...           ...         ...               ...          ...   \n",
              "1842            1           1                 0            0   \n",
              "1843            1           4                 1            1   \n",
              "1844            0           1                 0            0   \n",
              "1845            0           1                 0            0   \n",
              "1846            0           1                 0            0   \n",
              "\n",
              "      distribucion_fisica_2  zonificacion      ut  rentable  \n",
              "0                         0             0  100.00         0  \n",
              "1                         0             0  100.00         0  \n",
              "2                         0             0   98.78         1  \n",
              "3                         0             0   97.83         0  \n",
              "4                         0             0   99.23         0  \n",
              "...                     ...           ...     ...       ...  \n",
              "1842                      0             0   90.31         0  \n",
              "1843                      0             0   91.32         0  \n",
              "1844                      0             0   96.43         0  \n",
              "1845                      0             0  100.00         0  \n",
              "1846                      0             0   99.14         0  \n",
              "\n",
              "[1500 rows x 8 columns]"
            ],
            "text/html": [
              "\n",
              "  <div id=\"df-cc81cb8e-b231-40d0-95b1-28d58f78e7d7\">\n",
              "    <div class=\"colab-df-container\">\n",
              "      <div>\n",
              "<style scoped>\n",
              "    .dataframe tbody tr th:only-of-type {\n",
              "        vertical-align: middle;\n",
              "    }\n",
              "\n",
              "    .dataframe tbody tr th {\n",
              "        vertical-align: top;\n",
              "    }\n",
              "\n",
              "    .dataframe thead th {\n",
              "        text-align: right;\n",
              "    }\n",
              "</style>\n",
              "<table border=\"1\" class=\"dataframe\">\n",
              "  <thead>\n",
              "    <tr style=\"text-align: right;\">\n",
              "      <th></th>\n",
              "      <th>ubicacion_2</th>\n",
              "      <th>antiguedad</th>\n",
              "      <th>tipo_instalacion</th>\n",
              "      <th>encargado_2</th>\n",
              "      <th>distribucion_fisica_2</th>\n",
              "      <th>zonificacion</th>\n",
              "      <th>ut</th>\n",
              "      <th>rentable</th>\n",
              "    </tr>\n",
              "  </thead>\n",
              "  <tbody>\n",
              "    <tr>\n",
              "      <th>0</th>\n",
              "      <td>1</td>\n",
              "      <td>1</td>\n",
              "      <td>0</td>\n",
              "      <td>0</td>\n",
              "      <td>0</td>\n",
              "      <td>0</td>\n",
              "      <td>100.00</td>\n",
              "      <td>0</td>\n",
              "    </tr>\n",
              "    <tr>\n",
              "      <th>1</th>\n",
              "      <td>1</td>\n",
              "      <td>1</td>\n",
              "      <td>0</td>\n",
              "      <td>0</td>\n",
              "      <td>0</td>\n",
              "      <td>0</td>\n",
              "      <td>100.00</td>\n",
              "      <td>0</td>\n",
              "    </tr>\n",
              "    <tr>\n",
              "      <th>2</th>\n",
              "      <td>1</td>\n",
              "      <td>4</td>\n",
              "      <td>1</td>\n",
              "      <td>0</td>\n",
              "      <td>0</td>\n",
              "      <td>0</td>\n",
              "      <td>98.78</td>\n",
              "      <td>1</td>\n",
              "    </tr>\n",
              "    <tr>\n",
              "      <th>3</th>\n",
              "      <td>1</td>\n",
              "      <td>8</td>\n",
              "      <td>0</td>\n",
              "      <td>0</td>\n",
              "      <td>0</td>\n",
              "      <td>0</td>\n",
              "      <td>97.83</td>\n",
              "      <td>0</td>\n",
              "    </tr>\n",
              "    <tr>\n",
              "      <th>4</th>\n",
              "      <td>1</td>\n",
              "      <td>4</td>\n",
              "      <td>1</td>\n",
              "      <td>1</td>\n",
              "      <td>0</td>\n",
              "      <td>0</td>\n",
              "      <td>99.23</td>\n",
              "      <td>0</td>\n",
              "    </tr>\n",
              "    <tr>\n",
              "      <th>...</th>\n",
              "      <td>...</td>\n",
              "      <td>...</td>\n",
              "      <td>...</td>\n",
              "      <td>...</td>\n",
              "      <td>...</td>\n",
              "      <td>...</td>\n",
              "      <td>...</td>\n",
              "      <td>...</td>\n",
              "    </tr>\n",
              "    <tr>\n",
              "      <th>1842</th>\n",
              "      <td>1</td>\n",
              "      <td>1</td>\n",
              "      <td>0</td>\n",
              "      <td>0</td>\n",
              "      <td>0</td>\n",
              "      <td>0</td>\n",
              "      <td>90.31</td>\n",
              "      <td>0</td>\n",
              "    </tr>\n",
              "    <tr>\n",
              "      <th>1843</th>\n",
              "      <td>1</td>\n",
              "      <td>4</td>\n",
              "      <td>1</td>\n",
              "      <td>1</td>\n",
              "      <td>0</td>\n",
              "      <td>0</td>\n",
              "      <td>91.32</td>\n",
              "      <td>0</td>\n",
              "    </tr>\n",
              "    <tr>\n",
              "      <th>1844</th>\n",
              "      <td>0</td>\n",
              "      <td>1</td>\n",
              "      <td>0</td>\n",
              "      <td>0</td>\n",
              "      <td>0</td>\n",
              "      <td>0</td>\n",
              "      <td>96.43</td>\n",
              "      <td>0</td>\n",
              "    </tr>\n",
              "    <tr>\n",
              "      <th>1845</th>\n",
              "      <td>0</td>\n",
              "      <td>1</td>\n",
              "      <td>0</td>\n",
              "      <td>0</td>\n",
              "      <td>0</td>\n",
              "      <td>0</td>\n",
              "      <td>100.00</td>\n",
              "      <td>0</td>\n",
              "    </tr>\n",
              "    <tr>\n",
              "      <th>1846</th>\n",
              "      <td>0</td>\n",
              "      <td>1</td>\n",
              "      <td>0</td>\n",
              "      <td>0</td>\n",
              "      <td>0</td>\n",
              "      <td>0</td>\n",
              "      <td>99.14</td>\n",
              "      <td>0</td>\n",
              "    </tr>\n",
              "  </tbody>\n",
              "</table>\n",
              "<p>1500 rows × 8 columns</p>\n",
              "</div>\n",
              "      <button class=\"colab-df-convert\" onclick=\"convertToInteractive('df-cc81cb8e-b231-40d0-95b1-28d58f78e7d7')\"\n",
              "              title=\"Convert this dataframe to an interactive table.\"\n",
              "              style=\"display:none;\">\n",
              "        \n",
              "  <svg xmlns=\"http://www.w3.org/2000/svg\" height=\"24px\"viewBox=\"0 0 24 24\"\n",
              "       width=\"24px\">\n",
              "    <path d=\"M0 0h24v24H0V0z\" fill=\"none\"/>\n",
              "    <path d=\"M18.56 5.44l.94 2.06.94-2.06 2.06-.94-2.06-.94-.94-2.06-.94 2.06-2.06.94zm-11 1L8.5 8.5l.94-2.06 2.06-.94-2.06-.94L8.5 2.5l-.94 2.06-2.06.94zm10 10l.94 2.06.94-2.06 2.06-.94-2.06-.94-.94-2.06-.94 2.06-2.06.94z\"/><path d=\"M17.41 7.96l-1.37-1.37c-.4-.4-.92-.59-1.43-.59-.52 0-1.04.2-1.43.59L10.3 9.45l-7.72 7.72c-.78.78-.78 2.05 0 2.83L4 21.41c.39.39.9.59 1.41.59.51 0 1.02-.2 1.41-.59l7.78-7.78 2.81-2.81c.8-.78.8-2.07 0-2.86zM5.41 20L4 18.59l7.72-7.72 1.47 1.35L5.41 20z\"/>\n",
              "  </svg>\n",
              "      </button>\n",
              "      \n",
              "  <style>\n",
              "    .colab-df-container {\n",
              "      display:flex;\n",
              "      flex-wrap:wrap;\n",
              "      gap: 12px;\n",
              "    }\n",
              "\n",
              "    .colab-df-convert {\n",
              "      background-color: #E8F0FE;\n",
              "      border: none;\n",
              "      border-radius: 50%;\n",
              "      cursor: pointer;\n",
              "      display: none;\n",
              "      fill: #1967D2;\n",
              "      height: 32px;\n",
              "      padding: 0 0 0 0;\n",
              "      width: 32px;\n",
              "    }\n",
              "\n",
              "    .colab-df-convert:hover {\n",
              "      background-color: #E2EBFA;\n",
              "      box-shadow: 0px 1px 2px rgba(60, 64, 67, 0.3), 0px 1px 3px 1px rgba(60, 64, 67, 0.15);\n",
              "      fill: #174EA6;\n",
              "    }\n",
              "\n",
              "    [theme=dark] .colab-df-convert {\n",
              "      background-color: #3B4455;\n",
              "      fill: #D2E3FC;\n",
              "    }\n",
              "\n",
              "    [theme=dark] .colab-df-convert:hover {\n",
              "      background-color: #434B5C;\n",
              "      box-shadow: 0px 1px 3px 1px rgba(0, 0, 0, 0.15);\n",
              "      filter: drop-shadow(0px 1px 2px rgba(0, 0, 0, 0.3));\n",
              "      fill: #FFFFFF;\n",
              "    }\n",
              "  </style>\n",
              "\n",
              "      <script>\n",
              "        const buttonEl =\n",
              "          document.querySelector('#df-cc81cb8e-b231-40d0-95b1-28d58f78e7d7 button.colab-df-convert');\n",
              "        buttonEl.style.display =\n",
              "          google.colab.kernel.accessAllowed ? 'block' : 'none';\n",
              "\n",
              "        async function convertToInteractive(key) {\n",
              "          const element = document.querySelector('#df-cc81cb8e-b231-40d0-95b1-28d58f78e7d7');\n",
              "          const dataTable =\n",
              "            await google.colab.kernel.invokeFunction('convertToInteractive',\n",
              "                                                     [key], {});\n",
              "          if (!dataTable) return;\n",
              "\n",
              "          const docLinkHtml = 'Like what you see? Visit the ' +\n",
              "            '<a target=\"_blank\" href=https://colab.research.google.com/notebooks/data_table.ipynb>data table notebook</a>'\n",
              "            + ' to learn more about interactive tables.';\n",
              "          element.innerHTML = '';\n",
              "          dataTable['output_type'] = 'display_data';\n",
              "          await google.colab.output.renderOutput(dataTable, element);\n",
              "          const docLink = document.createElement('div');\n",
              "          docLink.innerHTML = docLinkHtml;\n",
              "          element.appendChild(docLink);\n",
              "        }\n",
              "      </script>\n",
              "    </div>\n",
              "  </div>\n",
              "  "
            ]
          },
          "metadata": {},
          "execution_count": 58
        }
      ]
    },
    {
      "cell_type": "code",
      "source": [
        "#balanceamos los datos\n",
        "n1 = len(atm_filtro[atm_filtro.rentable==1])\n",
        "d0 = atm_filtro[atm_filtro.rentable==0]\n",
        "d0 = d0.sample(n1,replace=False,random_state=42)\n",
        "d1 = atm_filtro[atm_filtro.rentable==1]\n",
        "data_filter = pd.concat([d0, d1])\n",
        "data_filter = shuffle(data_filter)\n",
        "data_filter.rentable.value_counts()"
      ],
      "metadata": {
        "colab": {
          "base_uri": "https://localhost:8080/"
        },
        "id": "WTcszoT8w6QH",
        "outputId": "80ce2524-7a42-41f1-c275-3330a076107d"
      },
      "execution_count": 59,
      "outputs": [
        {
          "output_type": "execute_result",
          "data": {
            "text/plain": [
              "0    749\n",
              "1    749\n",
              "Name: rentable, dtype: int64"
            ]
          },
          "metadata": {},
          "execution_count": 59
        }
      ]
    },
    {
      "cell_type": "markdown",
      "source": [
        "**ANÁLISIS DE CORRELACIÓN**"
      ],
      "metadata": {
        "id": "HFqIjqhsxJT_"
      }
    },
    {
      "cell_type": "code",
      "source": [
        "fig, ax = plt.subplots(figsize=(14,8))\n",
        "mask = np.triu(np.ones_like(atm_filtro.corr(method='spearman')))\n",
        "dataplop = sns.heatmap(atm_filtro.corr(method='spearman'), cmap = 'coolwarm', annot = True, mask=mask)\n",
        "plt.show()"
      ],
      "metadata": {
        "colab": {
          "base_uri": "https://localhost:8080/",
          "height": 574
        },
        "id": "p33O-Z5JxKY3",
        "outputId": "c46d6cff-d097-405b-9016-3256246d4f47"
      },
      "execution_count": 60,
      "outputs": [
        {
          "output_type": "display_data",
          "data": {
            "text/plain": [
              "<Figure size 1008x576 with 2 Axes>"
            ],
            "image/png": "[encoded data removed]"
          },
          "metadata": {
            "image/png": {
              "width": 839,
              "height": 557
            }
          }
        }
      ]
    },
    {
      "cell_type": "markdown",
      "source": [
        "**ENTRENANDO EL MODELO**"
      ],
      "metadata": {
        "id": "8gMDswlixQW-"
      }
    },
    {
      "cell_type": "code",
      "source": [
        "data_filter = data_filter.to_numpy()\n",
        "nrow,ncol = data_filter.shape\n",
        "y = data_filter[:,-1]\n",
        "X = data_filter[:,0:ncol-1]"
      ],
      "metadata": {
        "id": "ZiPh9tXLxR6e"
      },
      "execution_count": 61,
      "outputs": []
    },
    {
      "cell_type": "code",
      "source": [
        "X_train, X_test, y_train, y_test = train_test_split(X, y, train_size=0.7,random_state=42)\n",
        "scaled_X = StandardScaler()\n",
        "X_train = scaled_X.fit_transform(X_train)\n",
        "X_test = scaled_X.transform(X_test)\n",
        "clf1 = LogisticRegression(C=0.01,class_weight=\"balanced\").fit(X_train, y_train)\n",
        "y_pred1 = clf1.predict(X_test)\n",
        "y_score1 = clf1.decision_function(X_test)"
      ],
      "metadata": {
        "id": "RHDuwviXxSbe"
      },
      "execution_count": 62,
      "outputs": []
    },
    {
      "cell_type": "markdown",
      "source": [
        "**Calculando las métricas de evaluación**"
      ],
      "metadata": {
        "id": "eAcJEcDKxXk-"
      }
    },
    {
      "cell_type": "code",
      "source": [
        "fpr1, tpr1, _ = roc_curve(y_test, y_score1, pos_label=clf1.classes_[1])"
      ],
      "metadata": {
        "id": "9x5sPvH_xX-5"
      },
      "execution_count": 63,
      "outputs": []
    },
    {
      "cell_type": "markdown",
      "source": [],
      "metadata": {
        "id": "lUa-IrvAAxvm"
      }
    },
    {
      "cell_type": "code",
      "source": [
        "accuracy_score(y_test, y_pred1)"
      ],
      "metadata": {
        "colab": {
          "base_uri": "https://localhost:8080/"
        },
        "id": "J2DmdJxWx8Aw",
        "outputId": "7999ec1b-4f48-400e-bf6f-0771434ff187"
      },
      "execution_count": 64,
      "outputs": [
        {
          "output_type": "execute_result",
          "data": {
            "text/plain": [
              "0.6688888888888889"
            ]
          },
          "metadata": {},
          "execution_count": 64
        }
      ]
    },
    {
      "cell_type": "code",
      "source": [
        "precision_score(y_test, y_pred1)"
      ],
      "metadata": {
        "colab": {
          "base_uri": "https://localhost:8080/"
        },
        "id": "GPoHr-XPx852",
        "outputId": "f5920886-9bd8-4992-bad9-ae5f44e6ea6f"
      },
      "execution_count": 65,
      "outputs": [
        {
          "output_type": "execute_result",
          "data": {
            "text/plain": [
              "0.6893617021276596"
            ]
          },
          "metadata": {},
          "execution_count": 65
        }
      ]
    },
    {
      "cell_type": "code",
      "source": [
        "recall_score(y_test, y_pred1)"
      ],
      "metadata": {
        "colab": {
          "base_uri": "https://localhost:8080/"
        },
        "id": "UyjsTt1Sx-n9",
        "outputId": "7e3762e9-7e1b-4527-a1f1-17629fa11725"
      },
      "execution_count": 66,
      "outputs": [
        {
          "output_type": "execute_result",
          "data": {
            "text/plain": [
              "0.680672268907563"
            ]
          },
          "metadata": {},
          "execution_count": 66
        }
      ]
    },
    {
      "cell_type": "code",
      "source": [
        "metrics.auc(fpr1, tpr1)"
      ],
      "metadata": {
        "colab": {
          "base_uri": "https://localhost:8080/"
        },
        "id": "oYQ6QpYJx_5w",
        "outputId": "c404e5b3-2236-4e06-da97-52f896d241b6"
      },
      "execution_count": 67,
      "outputs": [
        {
          "output_type": "execute_result",
          "data": {
            "text/plain": [
              "0.7343725225939433"
            ]
          },
          "metadata": {},
          "execution_count": 67
        }
      ]
    },
    {
      "cell_type": "code",
      "source": [
        "mean_absolute_error(y_test, y_pred1)"
      ],
      "metadata": {
        "colab": {
          "base_uri": "https://localhost:8080/"
        },
        "id": "aMUouVL5yA56",
        "outputId": "930a5868-1261-464d-91a6-c71bcca25f7e"
      },
      "execution_count": 68,
      "outputs": [
        {
          "output_type": "execute_result",
          "data": {
            "text/plain": [
              "0.33111111111111113"
            ]
          },
          "metadata": {},
          "execution_count": 68
        }
      ]
    },
    {
      "cell_type": "code",
      "source": [
        "mean_squared_error(y_test, y_pred1)"
      ],
      "metadata": {
        "colab": {
          "base_uri": "https://localhost:8080/"
        },
        "id": "-VzGXy_DyCCw",
        "outputId": "b8c4c94c-0ee2-4447-cd54-6a04f00fb13d"
      },
      "execution_count": 69,
      "outputs": [
        {
          "output_type": "execute_result",
          "data": {
            "text/plain": [
              "0.33111111111111113"
            ]
          },
          "metadata": {},
          "execution_count": 69
        }
      ]
    },
    {
      "cell_type": "code",
      "source": [
        "from sklearn.metrics import confusion_matrix\n",
        "from sklearn.metrics import ConfusionMatrixDisplay\n",
        "\n",
        "cm = confusion_matrix(y_test, y_pred1)\n",
        "\n",
        "cm_display = ConfusionMatrixDisplay(cm).plot()"
      ],
      "metadata": {
        "colab": {
          "base_uri": "https://localhost:8080/",
          "height": 281
        },
        "id": "cdbQlYe9yE4v",
        "outputId": "4e787862-8b70-4fb5-bc97-44c56907abf7"
      },
      "execution_count": 70,
      "outputs": [
        {
          "output_type": "display_data",
          "data": {
            "text/plain": [
              "<Figure size 432x288 with 2 Axes>"
            ],
            "image/png": "[encoded data removed]"
          },
          "metadata": {
            "image/png": {
              "width": 315,
              "height": 264
            }
          }
        }
      ]
    },
    {
      "cell_type": "markdown",
      "source": [
        "**Analizamos las variables para seleccionar aquellas que mejoren nuestro modelo de predicción**"
      ],
      "metadata": {
        "id": "2XxpBke9yFf_"
      }
    },
    {
      "cell_type": "code",
      "source": [
        "#Mostramos los coeficientes\n",
        "print(\"Intercept:\", clf1.intercept_)\n",
        "print(\"Accuracy de entrenamiento:\", clf1.score(X, y))\n",
        "print(\"Coeficiente:\", pd.DataFrame(clf1.coef_, columns=atm_filtro.columns[0:7]).T)"
      ],
      "metadata": {
        "colab": {
          "base_uri": "https://localhost:8080/"
        },
        "id": "5dslNO-4yGvm",
        "outputId": "ee868890-97d4-415c-bf38-91fc878d56c2"
      },
      "execution_count": 43,
      "outputs": [
        {
          "output_type": "stream",
          "name": "stdout",
          "text": [
            "Intercept: [0.00849671]\n",
            "Accuracy de entrenamiento: 0.5\n",
            "Coeficiente:                               0\n",
            "ubicacion_2            0.452424\n",
            "antiguedad            -0.229918\n",
            "tipo_instalacion       0.132310\n",
            "encargado_2           -0.063464\n",
            "distribucion_fisica_2 -0.021244\n",
            "zonificacion           0.116140\n",
            "ut                    -0.343568\n"
          ]
        }
      ]
    },
    {
      "cell_type": "code",
      "source": [
        "# División de los datos en train y test, utlizamos el metodo Logit para identificar las variables que tienen un \n",
        "# p valor no significativo\n",
        "X = atm_filtro.drop(columns = 'rentable')\n",
        "y = atm_filtro['rentable']\n",
        "\n",
        "X_train, X_test, y_train, y_test = train_test_split(\n",
        "                                        X,\n",
        "                                        y.values.reshape(-1,1),\n",
        "                                        train_size   = 0.7,\n",
        "                                        random_state = 1234,\n",
        "                                        shuffle      = True\n",
        "                                    )"
      ],
      "metadata": {
        "id": "siL9XzP-yIG_"
      },
      "execution_count": 71,
      "outputs": []
    },
    {
      "cell_type": "code",
      "source": [
        "# Creación del modelo utilizando matrices como en scikitlearn\n",
        "# A la matriz de predictores se le tiene que añadir una columna de 1s para el intercept del modelo\n",
        "X_train = sm.add_constant(X_train, prepend=True)\n",
        "modelo = sm.Logit(endog=y_train, exog=X_train,)\n",
        "modelo = modelo.fit()\n",
        "print(modelo.summary())"
      ],
      "metadata": {
        "colab": {
          "base_uri": "https://localhost:8080/"
        },
        "id": "Kb2WvObhyKFR",
        "outputId": "2b69499d-8fc5-437b-9a85-94a3f5df1c85"
      },
      "execution_count": 72,
      "outputs": [
        {
          "output_type": "stream",
          "name": "stdout",
          "text": [
            "Optimization terminated successfully.\n",
            "         Current function value: 0.585364\n",
            "         Iterations 6\n",
            "                           Logit Regression Results                           \n",
            "==============================================================================\n",
            "Dep. Variable:                      y   No. Observations:                 1050\n",
            "Model:                          Logit   Df Residuals:                     1042\n",
            "Method:                           MLE   Df Model:                            7\n",
            "Date:                Thu, 08 Sep 2022   Pseudo R-squ.:                  0.1553\n",
            "Time:                        22:46:19   Log-Likelihood:                -614.63\n",
            "converged:                       True   LL-Null:                       -727.65\n",
            "Covariance Type:            nonrobust   LLR p-value:                 3.451e-45\n",
            "=========================================================================================\n",
            "                            coef    std err          z      P>|z|      [0.025      0.975]\n",
            "-----------------------------------------------------------------------------------------\n",
            "const                    16.3469      2.564      6.375      0.000      11.321      21.373\n",
            "ubicacion_2               1.5796      0.166      9.532      0.000       1.255       1.904\n",
            "antiguedad               -0.1077      0.025     -4.361      0.000      -0.156      -0.059\n",
            "tipo_instalacion          0.5447      0.183      2.969      0.003       0.185       0.904\n",
            "encargado_2              -0.0332      0.130     -0.255      0.799      -0.288       0.222\n",
            "distribucion_fisica_2     0.1815      0.183      0.990      0.322      -0.178       0.541\n",
            "zonificacion              0.3802      0.258      1.477      0.140      -0.124       0.885\n",
            "ut                       -0.1750      0.026     -6.657      0.000      -0.227      -0.123\n",
            "=========================================================================================\n"
          ]
        }
      ]
    },
    {
      "cell_type": "markdown",
      "source": [
        "### **ANÁLISIS DEL MODELO FINAL (AJUSTADO)**\n",
        "\n",
        "---\n",
        "\n"
      ],
      "metadata": {
        "id": "VmPO4GNVrO2d"
      }
    },
    {
      "cell_type": "markdown",
      "source": [
        "**BALANCEANDO DATOS**"
      ],
      "metadata": {
        "id": "eD0jnyPXte4N"
      }
    },
    {
      "cell_type": "code",
      "source": [
        "#Filtramos la tabla en base al promedio de las tx\n",
        "#1 es rentable, 0 no es rentable.\n",
        "atm3['rentable']=1*((atm3.prom_tx>=mediatx))\n",
        "atm3.rentable.value_counts()"
      ],
      "metadata": {
        "colab": {
          "base_uri": "https://localhost:8080/"
        },
        "id": "kbo3F2sFqbrm",
        "outputId": "7ac3c5cc-8966-4b72-fbb1-8e66b2b3b0da"
      },
      "execution_count": 73,
      "outputs": [
        {
          "output_type": "execute_result",
          "data": {
            "text/plain": [
              "0    751\n",
              "1    749\n",
              "Name: rentable, dtype: int64"
            ]
          },
          "metadata": {},
          "execution_count": 73
        }
      ]
    },
    {
      "cell_type": "code",
      "source": [
        "#Seleccionamos las variables dependientes e\n",
        "col_select = ['ubicacion_2','antiguedad','tipo_instalacion','ut','rentable'] \n",
        "atm_filtro = atm3.filter(col_select)\n",
        "atm_filtro"
      ],
      "metadata": {
        "colab": {
          "base_uri": "https://localhost:8080/",
          "height": 424
        },
        "id": "ZWMG9cEq3wt8",
        "outputId": "148cf808-c1c5-4c6d-83d2-95fa0d8e7728"
      },
      "execution_count": 92,
      "outputs": [
        {
          "output_type": "execute_result",
          "data": {
            "text/plain": [
              "      ubicacion_2  antiguedad  tipo_instalacion      ut  rentable\n",
              "0               1           1                 0  100.00         0\n",
              "1               1           1                 0  100.00         0\n",
              "2               1           4                 1   98.78         1\n",
              "3               1           8                 0   97.83         0\n",
              "4               1           4                 1   99.23         0\n",
              "...           ...         ...               ...     ...       ...\n",
              "1842            1           1                 0   90.31         0\n",
              "1843            1           4                 1   91.32         0\n",
              "1844            0           1                 0   96.43         0\n",
              "1845            0           1                 0  100.00         0\n",
              "1846            0           1                 0   99.14         0\n",
              "\n",
              "[1500 rows x 5 columns]"
            ],
            "text/html": [
              "\n",
              "  <div id=\"df-09475506-1cac-4b32-8eb7-ff9779670395\">\n",
              "    <div class=\"colab-df-container\">\n",
              "      <div>\n",
              "<style scoped>\n",
              "    .dataframe tbody tr th:only-of-type {\n",
              "        vertical-align: middle;\n",
              "    }\n",
              "\n",
              "    .dataframe tbody tr th {\n",
              "        vertical-align: top;\n",
              "    }\n",
              "\n",
              "    .dataframe thead th {\n",
              "        text-align: right;\n",
              "    }\n",
              "</style>\n",
              "<table border=\"1\" class=\"dataframe\">\n",
              "  <thead>\n",
              "    <tr style=\"text-align: right;\">\n",
              "      <th></th>\n",
              "      <th>ubicacion_2</th>\n",
              "      <th>antiguedad</th>\n",
              "      <th>tipo_instalacion</th>\n",
              "      <th>ut</th>\n",
              "      <th>rentable</th>\n",
              "    </tr>\n",
              "  </thead>\n",
              "  <tbody>\n",
              "    <tr>\n",
              "      <th>0</th>\n",
              "      <td>1</td>\n",
              "      <td>1</td>\n",
              "      <td>0</td>\n",
              "      <td>100.00</td>\n",
              "      <td>0</td>\n",
              "    </tr>\n",
              "    <tr>\n",
              "      <th>1</th>\n",
              "      <td>1</td>\n",
              "      <td>1</td>\n",
              "      <td>0</td>\n",
              "      <td>100.00</td>\n",
              "      <td>0</td>\n",
              "    </tr>\n",
              "    <tr>\n",
              "      <th>2</th>\n",
              "      <td>1</td>\n",
              "      <td>4</td>\n",
              "      <td>1</td>\n",
              "      <td>98.78</td>\n",
              "      <td>1</td>\n",
              "    </tr>\n",
              "    <tr>\n",
              "      <th>3</th>\n",
              "      <td>1</td>\n",
              "      <td>8</td>\n",
              "      <td>0</td>\n",
              "      <td>97.83</td>\n",
              "      <td>0</td>\n",
              "    </tr>\n",
              "    <tr>\n",
              "      <th>4</th>\n",
              "      <td>1</td>\n",
              "      <td>4</td>\n",
              "      <td>1</td>\n",
              "      <td>99.23</td>\n",
              "      <td>0</td>\n",
              "    </tr>\n",
              "    <tr>\n",
              "      <th>...</th>\n",
              "      <td>...</td>\n",
              "      <td>...</td>\n",
              "      <td>...</td>\n",
              "      <td>...</td>\n",
              "      <td>...</td>\n",
              "    </tr>\n",
              "    <tr>\n",
              "      <th>1842</th>\n",
              "      <td>1</td>\n",
              "      <td>1</td>\n",
              "      <td>0</td>\n",
              "      <td>90.31</td>\n",
              "      <td>0</td>\n",
              "    </tr>\n",
              "    <tr>\n",
              "      <th>1843</th>\n",
              "      <td>1</td>\n",
              "      <td>4</td>\n",
              "      <td>1</td>\n",
              "      <td>91.32</td>\n",
              "      <td>0</td>\n",
              "    </tr>\n",
              "    <tr>\n",
              "      <th>1844</th>\n",
              "      <td>0</td>\n",
              "      <td>1</td>\n",
              "      <td>0</td>\n",
              "      <td>96.43</td>\n",
              "      <td>0</td>\n",
              "    </tr>\n",
              "    <tr>\n",
              "      <th>1845</th>\n",
              "      <td>0</td>\n",
              "      <td>1</td>\n",
              "      <td>0</td>\n",
              "      <td>100.00</td>\n",
              "      <td>0</td>\n",
              "    </tr>\n",
              "    <tr>\n",
              "      <th>1846</th>\n",
              "      <td>0</td>\n",
              "      <td>1</td>\n",
              "      <td>0</td>\n",
              "      <td>99.14</td>\n",
              "      <td>0</td>\n",
              "    </tr>\n",
              "  </tbody>\n",
              "</table>\n",
              "<p>1500 rows × 5 columns</p>\n",
              "</div>\n",
              "      <button class=\"colab-df-convert\" onclick=\"convertToInteractive('df-09475506-1cac-4b32-8eb7-ff9779670395')\"\n",
              "              title=\"Convert this dataframe to an interactive table.\"\n",
              "              style=\"display:none;\">\n",
              "        \n",
              "  <svg xmlns=\"http://www.w3.org/2000/svg\" height=\"24px\"viewBox=\"0 0 24 24\"\n",
              "       width=\"24px\">\n",
              "    <path d=\"M0 0h24v24H0V0z\" fill=\"none\"/>\n",
              "    <path d=\"M18.56 5.44l.94 2.06.94-2.06 2.06-.94-2.06-.94-.94-2.06-.94 2.06-2.06.94zm-11 1L8.5 8.5l.94-2.06 2.06-.94-2.06-.94L8.5 2.5l-.94 2.06-2.06.94zm10 10l.94 2.06.94-2.06 2.06-.94-2.06-.94-.94-2.06-.94 2.06-2.06.94z\"/><path d=\"M17.41 7.96l-1.37-1.37c-.4-.4-.92-.59-1.43-.59-.52 0-1.04.2-1.43.59L10.3 9.45l-7.72 7.72c-.78.78-.78 2.05 0 2.83L4 21.41c.39.39.9.59 1.41.59.51 0 1.02-.2 1.41-.59l7.78-7.78 2.81-2.81c.8-.78.8-2.07 0-2.86zM5.41 20L4 18.59l7.72-7.72 1.47 1.35L5.41 20z\"/>\n",
              "  </svg>\n",
              "      </button>\n",
              "      \n",
              "  <style>\n",
              "    .colab-df-container {\n",
              "      display:flex;\n",
              "      flex-wrap:wrap;\n",
              "      gap: 12px;\n",
              "    }\n",
              "\n",
              "    .colab-df-convert {\n",
              "      background-color: #E8F0FE;\n",
              "      border: none;\n",
              "      border-radius: 50%;\n",
              "      cursor: pointer;\n",
              "      display: none;\n",
              "      fill: #1967D2;\n",
              "      height: 32px;\n",
              "      padding: 0 0 0 0;\n",
              "      width: 32px;\n",
              "    }\n",
              "\n",
              "    .colab-df-convert:hover {\n",
              "      background-color: #E2EBFA;\n",
              "      box-shadow: 0px 1px 2px rgba(60, 64, 67, 0.3), 0px 1px 3px 1px rgba(60, 64, 67, 0.15);\n",
              "      fill: #174EA6;\n",
              "    }\n",
              "\n",
              "    [theme=dark] .colab-df-convert {\n",
              "      background-color: #3B4455;\n",
              "      fill: #D2E3FC;\n",
              "    }\n",
              "\n",
              "    [theme=dark] .colab-df-convert:hover {\n",
              "      background-color: #434B5C;\n",
              "      box-shadow: 0px 1px 3px 1px rgba(0, 0, 0, 0.15);\n",
              "      filter: drop-shadow(0px 1px 2px rgba(0, 0, 0, 0.3));\n",
              "      fill: #FFFFFF;\n",
              "    }\n",
              "  </style>\n",
              "\n",
              "      <script>\n",
              "        const buttonEl =\n",
              "          document.querySelector('#df-09475506-1cac-4b32-8eb7-ff9779670395 button.colab-df-convert');\n",
              "        buttonEl.style.display =\n",
              "          google.colab.kernel.accessAllowed ? 'block' : 'none';\n",
              "\n",
              "        async function convertToInteractive(key) {\n",
              "          const element = document.querySelector('#df-09475506-1cac-4b32-8eb7-ff9779670395');\n",
              "          const dataTable =\n",
              "            await google.colab.kernel.invokeFunction('convertToInteractive',\n",
              "                                                     [key], {});\n",
              "          if (!dataTable) return;\n",
              "\n",
              "          const docLinkHtml = 'Like what you see? Visit the ' +\n",
              "            '<a target=\"_blank\" href=https://colab.research.google.com/notebooks/data_table.ipynb>data table notebook</a>'\n",
              "            + ' to learn more about interactive tables.';\n",
              "          element.innerHTML = '';\n",
              "          dataTable['output_type'] = 'display_data';\n",
              "          await google.colab.output.renderOutput(dataTable, element);\n",
              "          const docLink = document.createElement('div');\n",
              "          docLink.innerHTML = docLinkHtml;\n",
              "          element.appendChild(docLink);\n",
              "        }\n",
              "      </script>\n",
              "    </div>\n",
              "  </div>\n",
              "  "
            ]
          },
          "metadata": {},
          "execution_count": 92
        }
      ]
    },
    {
      "cell_type": "code",
      "source": [
        "#balanceamos los datos\n",
        "n1 = len(atm_filtro[atm_filtro.rentable==1])\n",
        "d0 = atm_filtro[atm_filtro.rentable==0]\n",
        "d0 = d0.sample(n1,replace=False,random_state=42)\n",
        "d1 = atm_filtro[atm_filtro.rentable==1]\n",
        "data_filter = pd.concat([d0, d1])\n",
        "data_filter = shuffle(data_filter)\n",
        "data_filter.rentable.value_counts()"
      ],
      "metadata": {
        "colab": {
          "base_uri": "https://localhost:8080/"
        },
        "id": "PenF1x8BtNfc",
        "outputId": "83562ae5-8d84-418a-a383-9bb55935b3ed"
      },
      "execution_count": 93,
      "outputs": [
        {
          "output_type": "execute_result",
          "data": {
            "text/plain": [
              "1    749\n",
              "0    749\n",
              "Name: rentable, dtype: int64"
            ]
          },
          "metadata": {},
          "execution_count": 93
        }
      ]
    },
    {
      "cell_type": "markdown",
      "source": [
        "**ANÁLISIS DE CORRELACIÓN**"
      ],
      "metadata": {
        "id": "dhSCfCXIkxCp"
      }
    },
    {
      "cell_type": "code",
      "source": [
        "fig, ax = plt.subplots(figsize=(14,8))\n",
        "mask = np.triu(np.ones_like(atm_filtro.corr(method='spearman')))\n",
        "dataplop = sns.heatmap(atm_filtro.corr(method='spearman'), cmap = 'coolwarm', annot = True, mask=mask)\n",
        "plt.show()"
      ],
      "metadata": {
        "colab": {
          "base_uri": "https://localhost:8080/",
          "height": 483
        },
        "id": "e2FTawpfjzIu",
        "outputId": "1ac9cc27-5840-486a-a030-6c94fc75ff30"
      },
      "execution_count": 94,
      "outputs": [
        {
          "output_type": "display_data",
          "data": {
            "text/plain": [
              "<Figure size 1008x576 with 2 Axes>"
            ],
            "image/png": "[encoded data removed]"
          },
          "metadata": {
            "image/png": {
              "width": 748,
              "height": 466
            }
          }
        }
      ]
    },
    {
      "cell_type": "markdown",
      "source": [
        "**ENTRENANDO EL MODELO**"
      ],
      "metadata": {
        "id": "Sfl1_rcyhz5m"
      }
    },
    {
      "cell_type": "code",
      "source": [
        "data_filter = data_filter.to_numpy()\n",
        "nrow,ncol = data_filter.shape\n",
        "y = data_filter[:,-1]\n",
        "X = data_filter[:,0:ncol-1]"
      ],
      "metadata": {
        "id": "Bx69gDDqh4HA"
      },
      "execution_count": 95,
      "outputs": []
    },
    {
      "cell_type": "code",
      "source": [
        "X_train, X_test, y_train, y_test = train_test_split(X, y, train_size=0.7,random_state=42)\n",
        "scaled_X = StandardScaler()\n",
        "X_train = scaled_X.fit_transform(X_train)\n",
        "X_test = scaled_X.transform(X_test)\n",
        "clf1 = LogisticRegression(C=0.01,class_weight=\"balanced\").fit(X_train, y_train)\n",
        "y_pred1 = clf1.predict(X_test)\n",
        "y_score1 = clf1.decision_function(X_test)"
      ],
      "metadata": {
        "id": "MMjrPJD6h6Kl"
      },
      "execution_count": 96,
      "outputs": []
    },
    {
      "cell_type": "markdown",
      "source": [
        "**Calculando las métricas de evaluación**"
      ],
      "metadata": {
        "id": "94ezns8qh86q"
      }
    },
    {
      "cell_type": "code",
      "source": [
        "fpr1, tpr1, _ = roc_curve(y_test, y_score1, pos_label=clf1.classes_[1])"
      ],
      "metadata": {
        "id": "XY1W3atxh-eq"
      },
      "execution_count": 97,
      "outputs": []
    },
    {
      "cell_type": "code",
      "source": [
        "accuracy_score(y_test, y_pred1)"
      ],
      "metadata": {
        "id": "5JRdgthniB_A",
        "colab": {
          "base_uri": "https://localhost:8080/"
        },
        "outputId": "fe4bb23d-17dc-4ccc-86b7-c7a48ea28924"
      },
      "execution_count": 98,
      "outputs": [
        {
          "output_type": "execute_result",
          "data": {
            "text/plain": [
              "0.6955555555555556"
            ]
          },
          "metadata": {},
          "execution_count": 98
        }
      ]
    },
    {
      "cell_type": "code",
      "source": [
        "precision_score(y_test, y_pred1)"
      ],
      "metadata": {
        "id": "k8Xt67HtiEms",
        "colab": {
          "base_uri": "https://localhost:8080/"
        },
        "outputId": "5af50071-d2d2-409e-ed83-34ff1cf4a68d"
      },
      "execution_count": 99,
      "outputs": [
        {
          "output_type": "execute_result",
          "data": {
            "text/plain": [
              "0.6877828054298643"
            ]
          },
          "metadata": {},
          "execution_count": 99
        }
      ]
    },
    {
      "cell_type": "code",
      "source": [
        "recall_score(y_test, y_pred1)"
      ],
      "metadata": {
        "id": "4E79x84-iFEj",
        "colab": {
          "base_uri": "https://localhost:8080/"
        },
        "outputId": "fa0a7384-1e0b-463b-b845-1d813cd2816c"
      },
      "execution_count": 100,
      "outputs": [
        {
          "output_type": "execute_result",
          "data": {
            "text/plain": [
              "0.6909090909090909"
            ]
          },
          "metadata": {},
          "execution_count": 100
        }
      ]
    },
    {
      "cell_type": "code",
      "source": [
        "metrics.auc(fpr1, tpr1)"
      ],
      "metadata": {
        "id": "98oS-xSyiGy7",
        "colab": {
          "base_uri": "https://localhost:8080/"
        },
        "outputId": "f0d7228a-41b6-4013-c88b-ce792a499120"
      },
      "execution_count": 101,
      "outputs": [
        {
          "output_type": "execute_result",
          "data": {
            "text/plain": [
              "0.7612154150197629"
            ]
          },
          "metadata": {},
          "execution_count": 101
        }
      ]
    },
    {
      "cell_type": "code",
      "source": [
        "mean_absolute_error(y_test, y_pred1)"
      ],
      "metadata": {
        "id": "FjFnvtRxiIao",
        "colab": {
          "base_uri": "https://localhost:8080/"
        },
        "outputId": "b217a6d1-5ef6-413d-8a69-48530f44dd43"
      },
      "execution_count": 102,
      "outputs": [
        {
          "output_type": "execute_result",
          "data": {
            "text/plain": [
              "0.30444444444444446"
            ]
          },
          "metadata": {},
          "execution_count": 102
        }
      ]
    },
    {
      "cell_type": "code",
      "source": [
        "mean_squared_error(y_test, y_pred1)"
      ],
      "metadata": {
        "id": "3mDy9MD1iLHh",
        "colab": {
          "base_uri": "https://localhost:8080/"
        },
        "outputId": "d0e09417-bfe7-41af-e061-fcf96b995487"
      },
      "execution_count": 103,
      "outputs": [
        {
          "output_type": "execute_result",
          "data": {
            "text/plain": [
              "0.30444444444444446"
            ]
          },
          "metadata": {},
          "execution_count": 103
        }
      ]
    },
    {
      "cell_type": "code",
      "source": [
        "from sklearn.metrics import confusion_matrix\n",
        "from sklearn.metrics import ConfusionMatrixDisplay\n",
        "\n",
        "cm = confusion_matrix(y_test, y_pred1)\n",
        "\n",
        "cm_display = ConfusionMatrixDisplay(cm).plot()"
      ],
      "metadata": {
        "id": "qctuefZhiLOd",
        "colab": {
          "base_uri": "https://localhost:8080/",
          "height": 282
        },
        "outputId": "a64d47f0-6283-4392-e375-622048b35afa"
      },
      "execution_count": 104,
      "outputs": [
        {
          "output_type": "display_data",
          "data": {
            "text/plain": [
              "<Figure size 432x288 with 2 Axes>"
            ],
            "image/png": "[encoded data removed]"
          },
          "metadata": {
            "image/png": {
              "width": 315,
              "height": 265
            }
          }
        }
      ]
    },
    {
      "cell_type": "markdown",
      "source": [
        "**Analizamos las variables para seleccionar aquellas que mejoren nuestro modelo de predicción**"
      ],
      "metadata": {
        "id": "QM4c0jLXoryb"
      }
    },
    {
      "cell_type": "code",
      "source": [
        "print(\"Intercept:\", clf1.intercept_)\n",
        "print(\"Accuracy de entrenamiento:\", clf1.score(X, y))\n",
        "print(\"Coeficiente:\", pd.DataFrame(clf1.coef_, columns=atm_filtro.columns[0:5]).T)\n"
      ],
      "metadata": {
        "colab": {
          "base_uri": "https://localhost:8080/"
        },
        "id": "Puhif8A3i3HC",
        "outputId": "c9743818-c5e4-490d-ba68-14f30b366262"
      },
      "execution_count": 89,
      "outputs": [
        {
          "output_type": "stream",
          "name": "stdout",
          "text": [
            "Intercept: [-0.00486949]\n",
            "Accuracy de entrenamiento: 0.5\n",
            "Coeficiente:                          0\n",
            "ubicacion_2       0.469317\n",
            "antiguedad       -0.203975\n",
            "tipo_instalacion  0.156700\n",
            "zonificacion      0.094800\n",
            "ut               -0.278694\n"
          ]
        }
      ]
    },
    {
      "cell_type": "code",
      "source": [
        "# División de los datos en train y test\n",
        "X = atm_filtro.drop(columns = 'rentable')\n",
        "y = atm_filtro['rentable']\n",
        "\n",
        "X_train, X_test, y_train, y_test = train_test_split(\n",
        "                                        X,\n",
        "                                        y.values.reshape(-1,1),\n",
        "                                        train_size   = 0.7,\n",
        "                                        random_state = 1234,\n",
        "                                        shuffle      = True\n",
        "                                    )\n"
      ],
      "metadata": {
        "id": "neJUlsMb12aQ"
      },
      "execution_count": 90,
      "outputs": []
    },
    {
      "cell_type": "code",
      "source": [
        "# Creación del modelo utilizando matrices como en scikitlearn\n",
        "# A la matriz de predictores se le tiene que añadir una columna de 1s para el intercept del modelo\n",
        "X_train = sm.add_constant(X_train, prepend=True)\n",
        "modelo = sm.Logit(endog=y_train, exog=X_train,)\n",
        "modelo = modelo.fit()\n",
        "print(modelo.summary())"
      ],
      "metadata": {
        "colab": {
          "base_uri": "https://localhost:8080/"
        },
        "id": "LcFkdANl5WXZ",
        "outputId": "7c65ccdd-7576-4cac-ec67-6170640acc8b"
      },
      "execution_count": 91,
      "outputs": [
        {
          "output_type": "stream",
          "name": "stdout",
          "text": [
            "Optimization terminated successfully.\n",
            "         Current function value: 0.585844\n",
            "         Iterations 6\n",
            "                           Logit Regression Results                           \n",
            "==============================================================================\n",
            "Dep. Variable:                      y   No. Observations:                 1050\n",
            "Model:                          Logit   Df Residuals:                     1044\n",
            "Method:                           MLE   Df Model:                            5\n",
            "Date:                Thu, 08 Sep 2022   Pseudo R-squ.:                  0.1546\n",
            "Time:                        22:48:35   Log-Likelihood:                -615.14\n",
            "converged:                       True   LL-Null:                       -727.65\n",
            "Covariance Type:            nonrobust   LLR p-value:                 1.244e-46\n",
            "====================================================================================\n",
            "                       coef    std err          z      P>|z|      [0.025      0.975]\n",
            "------------------------------------------------------------------------------------\n",
            "const               16.3728      2.564      6.384      0.000      11.346      21.399\n",
            "ubicacion_2          1.5553      0.140     11.079      0.000       1.280       1.830\n",
            "antiguedad          -0.1086      0.025     -4.415      0.000      -0.157      -0.060\n",
            "tipo_instalacion     0.5589      0.179      3.114      0.002       0.207       0.911\n",
            "zonificacion         0.3838      0.256      1.500      0.134      -0.118       0.885\n",
            "ut                  -0.1751      0.026     -6.656      0.000      -0.227      -0.124\n",
            "====================================================================================\n"
          ]
        }
      ]
    }
  ]
}